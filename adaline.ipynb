{
  "nbformat": 4,
  "nbformat_minor": 0,
  "metadata": {
    "colab": {
      "provenance": [],
      "authorship_tag": "ABX9TyOQA1oXCN+v8BrBgnpWd6Cf",
      "include_colab_link": true
    },
    "kernelspec": {
      "name": "python3",
      "display_name": "Python 3"
    },
    "language_info": {
      "name": "python"
    }
  },
  "cells": [
    {
      "cell_type": "markdown",
      "metadata": {
        "id": "view-in-github",
        "colab_type": "text"
      },
      "source": [
        "<a href=\"https://colab.research.google.com/github/rishita2912/60-basic-Python-projects/blob/main/adaline.ipynb\" target=\"_parent\"><img src=\"https://colab.research.google.com/assets/colab-badge.svg\" alt=\"Open In Colab\"/></a>"
      ]
    },
    {
      "cell_type": "code",
      "execution_count": 1,
      "metadata": {
        "colab": {
          "base_uri": "https://localhost:8080/"
        },
        "id": "jaUX-fOZngMC",
        "outputId": "d552214e-ed56-4f36-bb71-f83662c450c6"
      },
      "outputs": [
        {
          "output_type": "stream",
          "name": "stdout",
          "text": [
            "Error : [3.16189745]\n",
            "Error : [0.95688343]\n",
            "Error : [0.62961844]\n",
            "Error : [0.43448474]\n",
            "Error : [0.30065116]\n",
            "Error : [0.20807508]\n",
            "Error : [0.14400622]\n",
            "Error : [0.099665]\n",
            "Error : [0.06897696]\n",
            "Error : [0.04773814]\n",
            "Error : [0.033039]\n",
            "Error : [0.0228659]\n",
            "Error : [0.01582522]\n",
            "Error : [0.01095245]\n",
            "Error : [0.00758006]\n",
            "Error : [0.00524607]\n",
            "Error : [0.00363074]\n",
            "Error : [0.00251279]\n",
            "Error : [0.00173907]\n",
            "Error : [0.00120359]\n",
            "Error : [0.00083299]\n",
            "weight : [0.0099928  0.0099928  0.98776136]\n",
            "Bias : [0.0099928]\n"
          ]
        },
        {
          "output_type": "stream",
          "name": "stderr",
          "text": [
            "<ipython-input-1-861daf1d2541>:18: DeprecationWarning: Conversion of an array with ndim > 0 to a scalar is deprecated, and will error in future. Ensure you extract a single element from your array before performing this operation. (Deprecated NumPy 1.25.)\n",
            "  weight[j]=weight[j] + lr*(Target[i]-Y_input)*Input[i][j]\n"
          ]
        }
      ],
      "source": [
        "# Import necessary libraries\n",
        "import numpy as np\n",
        "\n",
        "#Adaline neural network\n",
        "def Adaline(Input, Target, lr=0.2, stop=0.001):\n",
        "\tweight = np.random.random(Input.shape[1])\n",
        "\tbias = np.random.random(1)\n",
        "\n",
        "\tError=[stop +1]\n",
        "\t# check the stop condition for the network\n",
        "\twhile Error[-1] > stop or Error[-1]-Error[-2] > 0.0001:\n",
        "\t\terror = []\n",
        "\t\tfor i in range(Input.shape[0]):\n",
        "\t\t\tY_input = sum(weight*Input[i]) + bias\n",
        "\n",
        "\t\t\t# Update the weight\n",
        "\t\t\tfor j in range(Input.shape[1]):\n",
        "\t\t\t\tweight[j]=weight[j] + lr*(Target[i]-Y_input)*Input[i][j]\n",
        "\n",
        "\t\t\t# Update the bias\n",
        "\t\t\tbias=bias + lr*(Target[i]-Y_input)\n",
        "\n",
        "\t\t\t# Store squared error value\n",
        "\t\t\terror.append((Target[i]-Y_input)**2)\n",
        "\t\t# Store sum of square errors\n",
        "\t\tError.append(sum(error))\n",
        "\t\tprint('Error :',Error[-1])\n",
        "\treturn weight, bias\n",
        "\n",
        "# Input dataset\n",
        "x = np.array([[1.0, 1.0, 1.0],\n",
        "\t\t\t[1.0, -1.0, 1.0],\n",
        "\t\t\t[-1.0, 1.0, 1.0],\n",
        "\t\t\t[-1.0, -1.0, -1.0]])\n",
        "# Target values\n",
        "t = np.array([1, 1, 1, -1])\n",
        "\n",
        "w,b = Adaline(x, t, lr=0.2, stop=0.001)\n",
        "print('weight :',w)\n",
        "print('Bias :',b)\n"
      ]
    }
  ]
}