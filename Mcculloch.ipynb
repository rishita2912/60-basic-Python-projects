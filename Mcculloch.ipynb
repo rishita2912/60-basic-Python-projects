{
  "nbformat": 4,
  "nbformat_minor": 0,
  "metadata": {
    "colab": {
      "provenance": [],
      "authorship_tag": "ABX9TyM0PeorXE0pj5T7bfvTQQWe",
      "include_colab_link": true
    },
    "kernelspec": {
      "name": "python3",
      "display_name": "Python 3"
    },
    "language_info": {
      "name": "python"
    }
  },
  "cells": [
    {
      "cell_type": "markdown",
      "metadata": {
        "id": "view-in-github",
        "colab_type": "text"
      },
      "source": [
        "<a href=\"https://colab.research.google.com/github/rishita2912/60-basic-Python-projects/blob/main/Mcculloch.ipynb\" target=\"_parent\"><img src=\"https://colab.research.google.com/assets/colab-badge.svg\" alt=\"Open In Colab\"/></a>"
      ]
    },
    {
      "cell_type": "code",
      "execution_count": null,
      "metadata": {
        "id": "1glfpqp8h99X"
      },
      "outputs": [],
      "source": [
        "#x1 = [int(x) for x in input(\"Enter the value for x1:\").split(',')]\n",
        "#x2 = [int(x) for x in input(\"Enter the value for x2:\").split(',')]\n",
        "#w1 = [int(x) for x in input(\"Enter the value for w1:\").split(',')]\n",
        "#w2 = [int(x) ]\n"
      ]
    },
    {
      "cell_type": "code",
      "source": [
        "#MCCulloch and Pitts model-OR\n",
        "x1=[1,0,1,1]\n",
        "x2=[1,1,1,1]\n",
        "w1=[0,0,1,0]\n",
        "w2=[0,1,1,1]\n",
        "t=3\n",
        "print(\"x1  x2  w1  w2  t   0\")\n",
        "for i in range(len(x1)):\n",
        "  if(x1[i]*w1[i] + x2[i]*w2[i])>=t:\n",
        "    print(x1[i],' ',x2[i],' ',w1[i],' ',w2[i],' ',t,' ',1)\n",
        "  else:\n",
        "    print(x1[i],' ',x2[i],' ',w1[i],' ',w2[i],' ',t,' ',0)"
      ],
      "metadata": {
        "colab": {
          "base_uri": "https://localhost:8080/"
        },
        "id": "pl1N02AOlgnL",
        "outputId": "6f70a381-d38d-4d1e-8701-1602679d6cfa"
      },
      "execution_count": 2,
      "outputs": [
        {
          "output_type": "stream",
          "name": "stdout",
          "text": [
            "x1  x2  w1  w2  t   0\n",
            "1   1   0   0   3   0\n",
            "0   1   0   1   3   0\n",
            "1   1   1   1   3   0\n",
            "1   1   0   1   3   0\n"
          ]
        }
      ]
    },
    {
      "cell_type": "code",
      "source": [
        "#mccholloch and pitts model-AND\n",
        "x1=[1,0,1,1]\n",
        "x2=[1,1,1,1]\n",
        "w1=[0,0,1,0]\n",
        "w2=[0,1,1,1]\n",
        "t=2\n",
        "print(\"x1  x2  w1  w2  t   0\")\n",
        "for i in range(len(x1)):\n",
        "  if(x1[i]*w1[i] + x2[i]*w2[i])>=t:\n",
        "    print(x1[i],' ',x2[i],' ',w1[i],' ',w2[i],' ',t,' ',1)\n",
        "  else:\n",
        "    print(x1[i],' ',x2[i],' ',w1[i],' ',w2[i],' ',t,' ',0)"
      ],
      "metadata": {
        "colab": {
          "base_uri": "https://localhost:8080/"
        },
        "id": "oSOn1nzul6d8",
        "outputId": "6affde34-2aa7-4306-e747-a08f8f731946"
      },
      "execution_count": 3,
      "outputs": [
        {
          "output_type": "stream",
          "name": "stdout",
          "text": [
            "x1  x2  w1  w2  t   0\n",
            "1   1   0   0   2   0\n",
            "0   1   0   1   2   0\n",
            "1   1   1   1   2   1\n",
            "1   1   0   1   2   0\n"
          ]
        }
      ]
    }
  ]
}